{
 "cells": [
  {
   "cell_type": "code",
   "execution_count": null,
   "metadata": {},
   "outputs": [],
   "source": [
    "import numpy as np\n",
    "import scipy as sc\n",
    "import matplotlib.pyplot as plt\n",
    "from sklearn.datasets import make_circles"
   ]
  },
  {
   "cell_type": "code",
   "execution_count": null,
   "metadata": {},
   "outputs": [],
   "source": [
    "n=500\n",
    "p=2\n",
    "X,Y = make_circles(n_samples=n, factor=0.5, noise=0.05)\n",
    "plt.scatter(X[:,0], X[:,1])\n",
    "plt.show"
   ]
  },
  {
   "cell_type": "code",
   "execution_count": null,
   "metadata": {},
   "outputs": [],
   "source": [
    "n=500\n",
    "p=2\n",
    "X,Y = make_circles(n_samples=n, factor=0.5, noise=0.05)\n",
    "Y=Y[:,np.newaxis]\n",
    "#representamos cada conjunto con colores distintos\n",
    "plt.scatter(X[Y[:,0]==0,0], X[Y[:,0]==0,1],c=\"skyblue\")\n",
    "plt.scatter(X[Y[:,0]==1,0], X[Y[:,0]==1,1],c=\"salmon\")\n",
    "\n",
    "plt.show"
   ]
  },
  {
   "cell_type": "code",
   "execution_count": null,
   "metadata": {},
   "outputs": [],
   "source": [
    "class capa_neuronas():\n",
    "    \n",
    "    def __init__(self, n_con,n_neur,act_f):\n",
    "        self.act_f = act_f\n",
    "        #self.b = np.random.rand(1,n_neur)*2 -1 #en [-1,1]\n",
    "        self.b = np.random.normal(-1,1,size=(1,n_neur))        \n",
    "        self.W = np.random.normal(-1,1,size=(n_con,n_neur))\n",
    "        #self.W = np.random.rand(n_con,n_neur)*2 -1#en [-1,1]"
   ]
  },
  {
   "cell_type": "code",
   "execution_count": null,
   "metadata": {},
   "outputs": [],
   "source": [
    "#FUNCIONES DE ACTIVACIÓN\n",
    "sigm = (lambda x: 1/(1+np.e**(-x)),\n",
    "        lambda x: x*(1-x))#sigmoide y derivada\n",
    "relu = lambda x: np.maximum(0,x)\n"
   ]
  },
  {
   "cell_type": "code",
   "execution_count": null,
   "metadata": {},
   "outputs": [],
   "source": [
    "def crear_red(topologia, act_f):\n",
    "    red=[]\n",
    "    for l, capa in enumerate(topologia[:-1]):\n",
    "        red.append(capa_neuronas(topologia[l], topologia[l+1], act_f))\n",
    "    return red"
   ]
  },
  {
   "cell_type": "code",
   "execution_count": null,
   "metadata": {},
   "outputs": [],
   "source": [
    "topologia=[p,4,8,4,1]\n",
    "red=crear_red(topologia,sigm)\n",
    "print(red)"
   ]
  },
  {
   "cell_type": "code",
   "execution_count": null,
   "metadata": {},
   "outputs": [],
   "source": [
    "l2_cost= (lambda Yp, Yr: np.mean((Yp-Yr)**2),\n",
    "          lambda Yp,Yr: (Yp-Yr)\n",
    "          )\n"
   ]
  },
  {
   "cell_type": "code",
   "execution_count": null,
   "metadata": {},
   "outputs": [],
   "source": [
    "def train(red_neuronal, X,Y, l2_cost, lr=0.1,train=True):\n",
    "    \n",
    "    out = [(None,X)]\n",
    "    #paso hacia adelante\n",
    "    for l,layer in enumerate(red_neuronal):\n",
    "        z=out[-1][1] @ red_neuronal[l].W + red_neuronal[l].b\n",
    "        a = red_neuronal[l].act_f[0](z)\n",
    "        out.append((z,a))\n",
    "    if train:\n",
    "        #paso hacia atrás\n",
    "        deltas=[]\n",
    "        for l in reversed(range(0,len(red_neuronal))):\n",
    "            z=out[l+1][0]\n",
    "            a=out[l+1][1]\n",
    "            if l==len(red_neuronal)-1:\n",
    "                deltas.insert(0, l2_cost[1](a,Y)*red_neuronal[l].act_f[1](a))\n",
    "            else:\n",
    "                deltas.insert(0,deltas[0] @ _W.T *red_neuronal[l].act_f[1](a))\n",
    "            _W = red_neuronal[l].W\n",
    "            \n",
    "            \n",
    "#DESCENSO DEL GRADIENTE\n",
    "            red_neuronal[l].b = red_neuronal[l].b - np.mean(deltas[0],axis=0,keepdims=True)*lr\n",
    "            red_neuronal[l].W = red_neuronal[l].W - out[l][1].T @ deltas[0] *lr\n",
    "       \n",
    "    return out[-1][1]\n",
    "\n",
    "train(red,X,Y,l2_cost,0.5)"
   ]
  },
  {
   "cell_type": "code",
   "execution_count": null,
   "metadata": {},
   "outputs": [],
   "source": [
    "import time \n",
    "from IPython.display import clear_output\n",
    "red_neuronal = crear_red(topologia, sigm)\n",
    "loss=[]\n",
    "for i in range(2000):\n",
    "    \n",
    "    #entrenamos la red\n",
    "    pY= train(red_neuronal,X,Y,l2_cost,0.1)\n",
    "    \n",
    "    if i%25==0:\n",
    "        \n",
    "        #print(pY)\n",
    "        \n",
    "        loss.append(l2_cost[0](pY,Y))\n",
    "        \n",
    "        res = 50\n",
    "        \n",
    "        _x0 = np.linspace(-1.5,1.5, res)\n",
    "        _x1 = np.linspace(-1.5,1.5, res)\n",
    "        \n",
    "        _Y = np.zeros((res,res))\n",
    "        \n",
    "        for i0,x0 in enumerate(_x0):\n",
    "            for i1,x1 in enumerate(_x1):\n",
    "                _Y[i0,i1]= train(red_neuronal,np.array([[x0,x1]]),Y,l2_cost,0.2,train=False)[0][0]\n",
    "                \n",
    "        plt.pcolormesh(_x0,_x1,_Y, cmap=\"coolwarm\")\n",
    "        plt.axis(\"equal\")\n",
    "        \n",
    "        plt.scatter(X[Y[:,0]==0,0],X[Y[:,0]==0,1],c=\"skyblue\")\n",
    "        plt.scatter(X[Y[:,0]==1,0],X[Y[:,0]==1,1],c=\"salmon\")\n",
    "        \n",
    "        clear_output(wait=True)\n",
    "        plt.show()\n",
    "        plt.plot(range(len(loss)),loss)\n",
    "            plt.show()\n",
    "            time.sleep(0.5)\n",
    "        "
   ]
  },
  {
   "cell_type": "code",
   "execution_count": null,
   "metadata": {},
   "outputs": [],
   "source": []
  }
 ],
 "metadata": {
  "kernelspec": {
   "display_name": "Python 3",
   "language": "python",
   "name": "python3"
  },
  "language_info": {
   "codemirror_mode": {
    "name": "ipython",
    "version": 3
   },
   "file_extension": ".py",
   "mimetype": "text/x-python",
   "name": "python",
   "nbconvert_exporter": "python",
   "pygments_lexer": "ipython3",
   "version": "3.9.1-final"
  }
 },
 "nbformat": 4,
 "nbformat_minor": 2
}